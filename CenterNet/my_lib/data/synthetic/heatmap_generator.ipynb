{
 "cells": [
  {
   "cell_type": "code",
   "execution_count": 1,
   "metadata": {},
   "outputs": [
    {
     "data": {
      "image/png": "[encoded data removed]",
      "text/plain": [
       "<Figure size 432x288 with 1 Axes>"
      ]
     },
     "metadata": {
      "needs_background": "light"
     },
     "output_type": "display_data"
    }
   ],
   "source": [
    "from my_lib.data.synthetic.heatmap_generator import HeatmapGenerator\n",
    "import numpy as np\n",
    "generator = HeatmapGenerator()\n",
    "heatmap = np.zeros((256,256), np.float)\n",
    "generator.generate_heatmap(heatmap,(125, 50), 3)\n",
    "    \n",
    "from my_lib.visualization.image_vis import show_grey_image\n",
    "show_grey_image(heatmap)"
   ]
  },
  {
   "cell_type": "code",
   "execution_count": 2,
   "metadata": {},
   "outputs": [
    {
     "data": {
      "image/png": "[encoded data removed]",
      "text/plain": [
       "<Figure size 432x288 with 1 Axes>"
      ]
     },
     "metadata": {
      "needs_background": "light"
     },
     "output_type": "display_data"
    }
   ],
   "source": [
    "color_hetamp = generator.generate_heatmap(heatmap,(125, 50), 3,\n",
    "                                              **{'trans':'color'})\n",
    "from my_lib.visualization.image_vis import show_color_image, show_grey_image\n",
    "show_color_image(color_hetamp)"
   ]
  },
  {
   "cell_type": "code",
   "execution_count": 3,
   "metadata": {},
   "outputs": [
    {
     "data": {
      "image/png": "[encoded data removed]",
      "text/plain": [
       "<Figure size 432x288 with 1 Axes>"
      ]
     },
     "metadata": {
      "needs_background": "light"
     },
     "output_type": "display_data"
    }
   ],
   "source": [
    "grey_hetamp = generator.generate_heatmap(heatmap,(125, 50), 3,\n",
    "                                              **{'trans':'gray'})\n",
    "from my_lib.visualization.image_vis import show_color_image, show_grey_image\n",
    "show_grey_image(grey_hetamp)"
   ]
  }
 ],
 "metadata": {
  "kernelspec": {
   "display_name": "pytorch_1_6",
   "language": "python",
   "name": "pytorch_1_6"
  },
  "language_info": {
   "codemirror_mode": {
    "name": "ipython",
    "version": 3
   },
   "file_extension": ".py",
   "mimetype": "text/x-python",
   "name": "python",
   "nbconvert_exporter": "python",
   "pygments_lexer": "ipython3",
   "version": "3.8.5"
  }
 },
 "nbformat": 4,
 "nbformat_minor": 4
}
